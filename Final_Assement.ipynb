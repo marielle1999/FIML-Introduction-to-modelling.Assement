{
 "cells": [
  {
   "cell_type": "code",
   "execution_count": null,
   "metadata": {},
   "outputs": [],
   "source": [
    "import pandas as pd\n",
    "\n",
    "# Lees het CSV-bestand in\n",
    "df = pd.read_csv('pad_naar_je_csv.csv')\n",
    "\n",
    "# Converteer categorische variabelen naar dummy variabelen\n",
    "df = pd.get_dummies(df, columns=['Product_category', 'Quality'], drop_first=True)\n"
   ]
  }
 ],
 "metadata": {
  "language_info": {
   "name": "python"
  }
 },
 "nbformat": 4,
 "nbformat_minor": 2
}
