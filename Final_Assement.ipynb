{
 "cells": [
  {
   "cell_type": "markdown",
   "metadata": {},
   "source": [
    "Assignment 1 \n",
    "First, turn the categorical variables into dummy variables and explain which category you chose as the reference category. Second, run a regression model where all independent variables are included in a single model. Use Cook’s D to find out if there are any outliers. Note: you will first have to remove missing values first in order to get Cooks D to work.\n",
    "\n",
    "After you identified the relevant outliers, go back to the original data and turn these outliers into missing values."
   ]
  },
  {
   "cell_type": "code",
   "execution_count": 7,
   "metadata": {},
   "outputs": [
    {
     "name": "stdout",
     "output_type": "stream",
     "text": [
      "Collecting statsmodels\n",
      "  Downloading statsmodels-0.14.1-cp310-cp310-manylinux_2_17_x86_64.manylinux2014_x86_64.whl.metadata (9.5 kB)\n",
      "Requirement already satisfied: numpy<2,>=1.18 in /home/codespace/.local/lib/python3.10/site-packages (from statsmodels) (1.26.4)\n",
      "Requirement already satisfied: scipy!=1.9.2,>=1.4 in /home/codespace/.local/lib/python3.10/site-packages (from statsmodels) (1.12.0)\n",
      "Requirement already satisfied: pandas!=2.1.0,>=1.0 in /home/codespace/.local/lib/python3.10/site-packages (from statsmodels) (2.2.1)\n",
      "Collecting patsy>=0.5.4 (from statsmodels)\n",
      "  Downloading patsy-0.5.6-py2.py3-none-any.whl.metadata (3.5 kB)\n",
      "Requirement already satisfied: packaging>=21.3 in /home/codespace/.local/lib/python3.10/site-packages (from statsmodels) (24.0)\n",
      "Requirement already satisfied: python-dateutil>=2.8.2 in /home/codespace/.local/lib/python3.10/site-packages (from pandas!=2.1.0,>=1.0->statsmodels) (2.9.0.post0)\n",
      "Requirement already satisfied: pytz>=2020.1 in /home/codespace/.local/lib/python3.10/site-packages (from pandas!=2.1.0,>=1.0->statsmodels) (2024.1)\n",
      "Requirement already satisfied: tzdata>=2022.7 in /home/codespace/.local/lib/python3.10/site-packages (from pandas!=2.1.0,>=1.0->statsmodels) (2024.1)\n",
      "Requirement already satisfied: six in /home/codespace/.local/lib/python3.10/site-packages (from patsy>=0.5.4->statsmodels) (1.16.0)\n",
      "Downloading statsmodels-0.14.1-cp310-cp310-manylinux_2_17_x86_64.manylinux2014_x86_64.whl (10.8 MB)\n",
      "\u001b[2K   \u001b[90m━━━━━━━━━━━━━━━━━━━━━━━━━━━━━━━━━━━━━━━━\u001b[0m \u001b[32m10.8/10.8 MB\u001b[0m \u001b[31m52.9 MB/s\u001b[0m eta \u001b[36m0:00:00\u001b[0m:00:01\u001b[0m0:01\u001b[0m\n",
      "\u001b[?25hDownloading patsy-0.5.6-py2.py3-none-any.whl (233 kB)\n",
      "\u001b[2K   \u001b[90m━━━━━━━━━━━━━━━━━━━━━━━━━━━━━━━━━━━━━━━━\u001b[0m \u001b[32m233.9/233.9 kB\u001b[0m \u001b[31m5.1 MB/s\u001b[0m eta \u001b[36m0:00:00\u001b[0mta \u001b[36m0:00:01\u001b[0m\n",
      "\u001b[?25hInstalling collected packages: patsy, statsmodels\n",
      "Successfully installed patsy-0.5.6 statsmodels-0.14.1\n",
      "Note: you may need to restart the kernel to use updated packages.\n"
     ]
    }
   ],
   "source": [
    "pip install statsmodels\n"
   ]
  },
  {
   "cell_type": "code",
   "execution_count": 9,
   "metadata": {},
   "outputs": [
    {
     "name": "stdout",
     "output_type": "stream",
     "text": [
      "Index(['Unnamed: 0', 'products_sold', 'product_category', 'quality',\n",
      "       'satisfaction', 'discount', 'retail_price', 'perc_physical',\n",
      "       'market_size'],\n",
      "      dtype='object')\n"
     ]
    }
   ],
   "source": [
    "import pandas as pd\n",
    "\n",
    "df = pd.read_csv('https://raw.githubusercontent.com/marielle1999/FIML-Introduction-to-modelling.Assement/main/1659397Pet%20shop%20(1).csv')\n",
    "print(df.columns)"
   ]
  },
  {
   "cell_type": "code",
   "execution_count": 8,
   "metadata": {},
   "outputs": [
    {
     "data": {
      "text/html": [
       "<div>\n",
       "<style scoped>\n",
       "    .dataframe tbody tr th:only-of-type {\n",
       "        vertical-align: middle;\n",
       "    }\n",
       "\n",
       "    .dataframe tbody tr th {\n",
       "        vertical-align: top;\n",
       "    }\n",
       "\n",
       "    .dataframe thead th {\n",
       "        text-align: right;\n",
       "    }\n",
       "</style>\n",
       "<table border=\"1\" class=\"dataframe\">\n",
       "  <thead>\n",
       "    <tr style=\"text-align: right;\">\n",
       "      <th></th>\n",
       "      <th>Unnamed: 0</th>\n",
       "      <th>products_sold</th>\n",
       "      <th>product_category</th>\n",
       "      <th>quality</th>\n",
       "      <th>satisfaction</th>\n",
       "      <th>discount</th>\n",
       "      <th>retail_price</th>\n",
       "      <th>perc_physical</th>\n",
       "      <th>market_size</th>\n",
       "    </tr>\n",
       "  </thead>\n",
       "  <tbody>\n",
       "    <tr>\n",
       "      <th>0</th>\n",
       "      <td>1</td>\n",
       "      <td>268884</td>\n",
       "      <td>health</td>\n",
       "      <td>NaN</td>\n",
       "      <td>4.9</td>\n",
       "      <td>15</td>\n",
       "      <td>NaN</td>\n",
       "      <td>30.6</td>\n",
       "      <td>3192</td>\n",
       "    </tr>\n",
       "    <tr>\n",
       "      <th>1</th>\n",
       "      <td>2</td>\n",
       "      <td>146945</td>\n",
       "      <td>health</td>\n",
       "      <td>premium</td>\n",
       "      <td>4.5</td>\n",
       "      <td>6</td>\n",
       "      <td>1.0</td>\n",
       "      <td>21.7</td>\n",
       "      <td>1046</td>\n",
       "    </tr>\n",
       "    <tr>\n",
       "      <th>2</th>\n",
       "      <td>3</td>\n",
       "      <td>130623</td>\n",
       "      <td>toys</td>\n",
       "      <td>premium</td>\n",
       "      <td>4.0</td>\n",
       "      <td>10</td>\n",
       "      <td>29.0</td>\n",
       "      <td>24.0</td>\n",
       "      <td>2460</td>\n",
       "    </tr>\n",
       "    <tr>\n",
       "      <th>3</th>\n",
       "      <td>4</td>\n",
       "      <td>112757</td>\n",
       "      <td>toys</td>\n",
       "      <td>off_brand</td>\n",
       "      <td>4.6</td>\n",
       "      <td>15</td>\n",
       "      <td>6.0</td>\n",
       "      <td>61.6</td>\n",
       "      <td>709</td>\n",
       "    </tr>\n",
       "    <tr>\n",
       "      <th>4</th>\n",
       "      <td>5</td>\n",
       "      <td>94000</td>\n",
       "      <td>health</td>\n",
       "      <td>off_brand</td>\n",
       "      <td>3.6</td>\n",
       "      <td>7</td>\n",
       "      <td>15.0</td>\n",
       "      <td>30.1</td>\n",
       "      <td>1182</td>\n",
       "    </tr>\n",
       "  </tbody>\n",
       "</table>\n",
       "</div>"
      ],
      "text/plain": [
       "   Unnamed: 0  products_sold product_category    quality  satisfaction  \\\n",
       "0           1         268884           health        NaN           4.9   \n",
       "1           2         146945           health    premium           4.5   \n",
       "2           3         130623             toys    premium           4.0   \n",
       "3           4         112757             toys  off_brand           4.6   \n",
       "4           5          94000           health  off_brand           3.6   \n",
       "\n",
       "   discount  retail_price  perc_physical  market_size  \n",
       "0        15           NaN           30.6         3192  \n",
       "1         6           1.0           21.7         1046  \n",
       "2        10          29.0           24.0         2460  \n",
       "3        15           6.0           61.6          709  \n",
       "4         7          15.0           30.1         1182  "
      ]
     },
     "execution_count": 8,
     "metadata": {},
     "output_type": "execute_result"
    }
   ],
   "source": [
    "import statsmodels.api as sm\n",
    "import pandas as pd\n",
    "import numpy as np\n",
    "from sklearn.impute import SimpleImputer\n",
    "import matplotlib.pyplot as plt\n",
    "import seaborn as sns\n",
    "from sklearn.model_selection import train_test_split\n",
    "\n",
    "data = pd.read_csv('https://raw.githubusercontent.com/marielle1999/FIML-Introduction-to-modelling.Assement/main/1659397Pet%20shop%20(1).csv')\n",
    "data.head()"
   ]
  },
  {
   "cell_type": "code",
   "execution_count": 17,
   "metadata": {},
   "outputs": [
    {
     "name": "stdout",
     "output_type": "stream",
     "text": [
      "   Unnamed: 0  products_sold  satisfaction  discount  retail_price  \\\n",
      "0           1         268884           4.9        15           NaN   \n",
      "1           2         146945           4.5         6           1.0   \n",
      "2           3         130623           4.0        10          29.0   \n",
      "3           4         112757           4.6        15           6.0   \n",
      "4           5          94000           3.6         7          15.0   \n",
      "\n",
      "   perc_physical  market_size  product_category_health  \\\n",
      "0           30.6         3192                     True   \n",
      "1           21.7         1046                     True   \n",
      "2           24.0         2460                    False   \n",
      "3           61.6          709                    False   \n",
      "4           30.1         1182                     True   \n",
      "\n",
      "   product_category_other  product_category_toys  quality_premium  \n",
      "0                   False                  False            False  \n",
      "1                   False                  False             True  \n",
      "2                   False                   True             True  \n",
      "3                   False                   True            False  \n",
      "4                   False                  False            False  \n"
     ]
    }
   ],
   "source": [
    "import pandas as pd\n",
    "\n",
    "df = pd.read_csv('https://raw.githubusercontent.com/marielle1999/FIML-Introduction-to-modelling.Assement/main/1659397Pet%20shop%20(1).csv')\n",
    "\n",
    "\n",
    "df_dummies = pd.get_dummies(df, columns=['product_category', 'quality'], drop_first=True)\n",
    "\n",
    "print(df_dummies.head())\n"
   ]
  },
  {
   "cell_type": "code",
   "execution_count": 19,
   "metadata": {},
   "outputs": [],
   "source": [
    "\n",
    "REMOVABLE_COLUMNS = ['Unnamed: 0']\n",
    "for column in REMOVABLE_COLUMNS:\n",
    "    if column in data.columns:\n",
    "        data = data.drop(column, axis=1)\n"
   ]
  },
  {
   "cell_type": "markdown",
   "metadata": {},
   "source": [
    "Step 1: Convert Categorical Variables to Dummy Variables"
   ]
  },
  {
   "cell_type": "code",
   "execution_count": 27,
   "metadata": {},
   "outputs": [
    {
     "name": "stdout",
     "output_type": "stream",
     "text": [
      "Index(['Unnamed: 0', 'products_sold', 'product_category', 'quality',\n",
      "       'satisfaction', 'discount', 'retail_price', 'perc_physical',\n",
      "       'market_size'],\n",
      "      dtype='object')\n"
     ]
    }
   ],
   "source": [
    "import pandas as pd\n",
    "\n",
    "df = pd.read_csv('https://raw.githubusercontent.com/marielle1999/FIML-Introduction-to-modelling.Assement/main/1659397Pet%20shop%20(1).csv')\n",
    "print(df.columns)"
   ]
  },
  {
   "cell_type": "code",
   "execution_count": 30,
   "metadata": {},
   "outputs": [],
   "source": [
    "data = pd.read_csv('https://raw.githubusercontent.com/marielle1999/FIML-Introduction-to-modelling.Assement/main/1659397Pet%20shop%20(1).csv')\n",
    "data = pd.get_dummies(data, columns=['quality', 'product_category'], drop_first=True)\n"
   ]
  },
  {
   "cell_type": "markdown",
   "metadata": {},
   "source": [
    "2. Remove any missing values "
   ]
  },
  {
   "cell_type": "code",
   "execution_count": 36,
   "metadata": {},
   "outputs": [
    {
     "name": "stdout",
     "output_type": "stream",
     "text": [
      "Aantal rijen voor het verwijderen van ontbrekende waarden: 2250\n",
      "Aantal rijen na het verwijderen van ontbrekende waarden: 2038\n"
     ]
    }
   ],
   "source": [
    "data_cleaned = data.dropna()\n",
    "print(\"Aantal rijen voor het verwijderen van ontbrekende waarden:\", data.shape[0])\n",
    "print(\"Aantal rijen na het verwijderen van ontbrekende waarden:\", data_cleaned.shape[0])"
   ]
  },
  {
   "cell_type": "markdown",
   "metadata": {},
   "source": [
    "3. Run a regression model "
   ]
  },
  {
   "cell_type": "code",
   "execution_count": 39,
   "metadata": {},
   "outputs": [],
   "source": [
    "TARGET_COLUMN = 'products_sold'\n",
    "data_clean = data.dropna()\n"
   ]
  },
  {
   "cell_type": "code",
   "execution_count": 41,
   "metadata": {},
   "outputs": [
    {
     "name": "stdout",
     "output_type": "stream",
     "text": [
      "const                      float64\n",
      "Unnamed: 0                   int64\n",
      "satisfaction               float64\n",
      "discount                     int64\n",
      "retail_price               float64\n",
      "perc_physical              float64\n",
      "market_size                  int64\n",
      "quality_premium               bool\n",
      "product_category_health       bool\n",
      "product_category_other        bool\n",
      "product_category_toys         bool\n",
      "dtype: object\n",
      "int64\n"
     ]
    }
   ],
   "source": [
    "print(X.dtypes)\n",
    "print(y.dtypes)\n"
   ]
  },
  {
   "cell_type": "code",
   "execution_count": 42,
   "metadata": {},
   "outputs": [],
   "source": [
    "X = X.select_dtypes(include=[np.number]) \n"
   ]
  },
  {
   "cell_type": "code",
   "execution_count": 43,
   "metadata": {},
   "outputs": [
    {
     "name": "stdout",
     "output_type": "stream",
     "text": [
      "                            OLS Regression Results                            \n",
      "==============================================================================\n",
      "Dep. Variable:          products_sold   R-squared:                       0.746\n",
      "Model:                            OLS   Adj. R-squared:                  0.746\n",
      "Method:                 Least Squares   F-statistic:                     995.7\n",
      "Date:                Fri, 05 Apr 2024   Prob (F-statistic):               0.00\n",
      "Time:                        14:32:30   Log-Likelihood:                -23587.\n",
      "No. Observations:                2038   AIC:                         4.719e+04\n",
      "Df Residuals:                    2031   BIC:                         4.723e+04\n",
      "Df Model:                           6                                         \n",
      "Covariance Type:            nonrobust                                         \n",
      "=================================================================================\n",
      "                    coef    std err          t      P>|t|      [0.025      0.975]\n",
      "---------------------------------------------------------------------------------\n",
      "const         -1.128e+05   5263.843    -21.436      0.000   -1.23e+05   -1.03e+05\n",
      "Unnamed: 0        0.8723      0.880      0.992      0.321      -0.853       2.597\n",
      "satisfaction   4.623e+04   1089.936     42.415      0.000    4.41e+04    4.84e+04\n",
      "discount         87.6280     27.435      3.194      0.001      33.824     141.432\n",
      "retail_price   -552.7063     80.912     -6.831      0.000    -711.385    -394.027\n",
      "perc_physical    19.5440     26.610      0.734      0.463     -32.642      71.730\n",
      "market_size      40.0213      0.624     64.132      0.000      38.797      41.245\n",
      "==============================================================================\n",
      "Omnibus:                       12.222   Durbin-Watson:                   2.066\n",
      "Prob(Omnibus):                  0.002   Jarque-Bera (JB):               12.243\n",
      "Skew:                           0.184   Prob(JB):                      0.00219\n",
      "Kurtosis:                       3.090   Cond. No.                     2.21e+04\n",
      "==============================================================================\n",
      "\n",
      "Notes:\n",
      "[1] Standard Errors assume that the covariance matrix of the errors is correctly specified.\n",
      "[2] The condition number is large, 2.21e+04. This might indicate that there are\n",
      "strong multicollinearity or other numerical problems.\n"
     ]
    }
   ],
   "source": [
    "X = sm.add_constant(X)  \n",
    "model = sm.OLS(y, X).fit()\n",
    "print(model.summary())\n"
   ]
  },
  {
   "cell_type": "markdown",
   "metadata": {},
   "source": [
    "4. Use Cook's D to identify outliers in the dataset.\n",
    "\n",
    "From slides:\n",
    "                You can indentify outliers by checking if any of them are bigger than 4/n using get_influence().cooks_distance"
   ]
  },
  {
   "cell_type": "code",
   "execution_count": 46,
   "metadata": {},
   "outputs": [],
   "source": [
    "influence = model.get_influence()\n",
    "cooks_d = influence.cooks_distance[0]\n"
   ]
  },
  {
   "cell_type": "code",
   "execution_count": 47,
   "metadata": {},
   "outputs": [
    {
     "name": "stdout",
     "output_type": "stream",
     "text": [
      "Cook's D threshold: 0.0019743336623889436\n"
     ]
    }
   ],
   "source": [
    "n = len(X)  # Aantal observaties\n",
    "k = X.shape[1]  # Aantal onafhankelijke variabelen\n",
    "\n",
    "threshold = 4 / (n - k - 1)\n",
    "\n",
    "print(\"Cook's D threshold:\", threshold)\n"
   ]
  },
  {
   "cell_type": "code",
   "execution_count": 52,
   "metadata": {},
   "outputs": [
    {
     "data": {
      "image/png": "[encoded data removed]",
      "text/plain": [
       "<Figure size 1000x600 with 1 Axes>"
      ]
     },
     "metadata": {},
     "output_type": "display_data"
    }
   ],
   "source": [
    "import matplotlib.pyplot as plt\n",
    "\n",
    "plt.figure(figsize=(10, 6))\n",
    "plt.stem(cooks_d)  \n",
    "plt.title(\"Cook's D voor elk observatiepunt\")\n",
    "plt.xlabel('Observatie-index')\n",
    "plt.ylabel(\"Cook's D\")\n",
    "plt.axhline(y=threshold, color='r', linestyle='--')\n",
    "plt.show()\n"
   ]
  },
  {
   "cell_type": "markdown",
   "metadata": {},
   "source": [
    "5. Replace the identified outliers with missing values"
   ]
  },
  {
   "cell_type": "code",
   "execution_count": 54,
   "metadata": {},
   "outputs": [],
   "source": [
    "data_clean.reset_index(drop=True, inplace=True)\n"
   ]
  },
  {
   "cell_type": "code",
   "execution_count": 56,
   "metadata": {},
   "outputs": [
    {
     "data": {
      "text/plain": [
       "Unnamed: 0                   0\n",
       "products_sold                0\n",
       "satisfaction                 0\n",
       "discount                    23\n",
       "retail_price               153\n",
       "perc_physical               90\n",
       "market_size                  0\n",
       "quality_premium              0\n",
       "product_category_health      0\n",
       "product_category_other       0\n",
       "product_category_toys        0\n",
       "dtype: int64"
      ]
     },
     "execution_count": 56,
     "metadata": {},
     "output_type": "execute_result"
    }
   ],
   "source": [
    "data_original_with_missing_outliers = data.copy()\n",
    "\n",
    "data_original_with_missing_outliers.loc[data_original_with_missing_outliers['discount'] > 52, 'discount'] = np.nan\n",
    "data_original_with_missing_outliers.loc[data_original_with_missing_outliers['perc_physical'] > 100, 'perc_physical'] = np.nan\n",
    "\n",
    "data_original_with_missing_outliers.isnull().sum()"
   ]
  },
  {
   "cell_type": "markdown",
   "metadata": {},
   "source": [
    "Assignment 2\n",
    "The original data contained missing values, and if you did assignment 1 correctly some more should be added. Use the correct imputation techniques for dealing with both the categorical and continuous missing values. Explain what you did. After this, check if there are potential issues with multicollinearity, and if there are, explain how you dealt with it.\n",
    "\n",
    "\n",
    "Step 1: Handling Missing Values\n",
    "- Categorical Variables\n",
    "- Continuous Variables\n",
    "\n",
    "Explanation of Actions:\n",
    "Categorical Imputation: I imputed missing values in categorical variables by replacing them with the mode of their respective columns. This method is chosen because it maintains the original distribution of categorical data, ensuring that the imputation does not introduce bias.\n",
    "\n",
    "Continuous Imputation: For continuous variables, I used the median for imputation where the distribution was skewed, and the mean for variables that were approximately normally distributed. This approach minimizes the impact of outliers on the imputation process and helps maintain the integrity of the dataset.\n",
    "\n",
    "Step 2: Checking and Addressing Multicollinearity\n",
    "Detection: To detect multicollinearity, I calculated the Variance Inflation Factor (VIF) for each independent variable. \n",
    "\n",
    "Resolution: To deal with multicollinearity, several strategies can be employed. One approach is to remove variables with high VIF values from the model, simplifying it. Another method involves combining correlated variables into a single predictor through techniques such as Principal Component Analysis (PCA) or simply by creating an index or score that represents the underlying information\n",
    "\n",
    "Step 3: Address multicollinearity\n",
    "After identifying variables with high VIF scores, indicating potential multicollinearity, I chose to remove the least important variables based on their VIF scores and the theoretical relevance to the model. This decision was made to ensure that the model remains interpretable and to avoid the dilution of statistical power associated with multicollinearity. In cases where variables were closely related but all theoretically important, I considered combining them into composite indices but ultimately prioritized model simplicity and interpretability."
   ]
  },
  {
   "cell_type": "code",
   "execution_count": null,
   "metadata": {},
   "outputs": [],
   "source": []
  }
 ],
 "metadata": {
  "kernelspec": {
   "display_name": "Python 3",
   "language": "python",
   "name": "python3"
  },
  "language_info": {
   "codemirror_mode": {
    "name": "ipython",
    "version": 3
   },
   "file_extension": ".py",
   "mimetype": "text/x-python",
   "name": "python",
   "nbconvert_exporter": "python",
   "pygments_lexer": "ipython3",
   "version": "3.10.13"
  }
 },
 "nbformat": 4,
 "nbformat_minor": 2
}
